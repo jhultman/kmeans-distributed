{
 "cells": [
  {
   "cell_type": "code",
   "execution_count": null,
   "metadata": {
    "collapsed": true
   },
   "outputs": [],
   "source": [
    "import numpy as np\n",
    "import matplotlib.pyplot as plt\n",
    "from kmeans_distributed import *"
   ]
  },
  {
   "cell_type": "code",
   "execution_count": 8,
   "metadata": {
    "collapsed": true
   },
   "outputs": [],
   "source": [
    "def dictify_xy_data(X, Y, labels):\n",
    "    dictified = []\n",
    "    for x, y, label in zip(X, Y, labels):\n",
    "        dictified += {'x': float(x), 'y': float(y), 'cluster_id': label}\n",
    "    return dictified"
   ]
  },
  {
   "cell_type": "code",
   "execution_count": 54,
   "metadata": {
    "collapsed": true
   },
   "outputs": [],
   "source": [
    "def generate_noisy_target(cx, cy, N=50, std=0.3):\n",
    "    noise_x = std * np.random.randn(N)\n",
    "    noise_y = std * np.random.randn(N)\n",
    "    \n",
    "    X = np.array([cx + noise for noise in noise_x])\n",
    "    Y = np.array([cy + noise for noise in noise_y])\n",
    "    return X, Y"
   ]
  },
  {
   "cell_type": "code",
   "execution_count": 59,
   "metadata": {
    "collapsed": true
   },
   "outputs": [],
   "source": [
    "def generate_synthetic_dataset(centers):\n",
    "    X = np.zeros([0])\n",
    "    Y = np.zeros([0])\n",
    "    labels = np.zeros([0])\n",
    "    \n",
    "    for i, center in enumerate(centers):\n",
    "        X_i, Y_i = generate_noisy_target(*center)\n",
    "        labels_i = i * np.ones_like(X_i)\n",
    "        \n",
    "        X = np.concatenate([X, X_i])\n",
    "        Y = np.concatenate([Y, Y_i])\n",
    "        labels = np.concatenate([labels, labels_i])\n",
    "    return X, Y, labels"
   ]
  },
  {
   "cell_type": "code",
   "execution_count": 60,
   "metadata": {
    "collapsed": true
   },
   "outputs": [],
   "source": [
    "def plot_clustering(x, y, labels):\n",
    "    colors = ['r' if lbl == 0 else 'b' for lbl in labels]\n",
    "    \n",
    "    f, ax = plt.subplots()\n",
    "    ax.scatter(x, y, color=colors)\n",
    "    \n",
    "    ax.set_xlabel('x')\n",
    "    ax.set_ylabel('y')\n",
    "    f.suptitle('Synthetic data')\n",
    "    \n",
    "    plt.show()"
   ]
  },
  {
   "cell_type": "code",
   "execution_count": 64,
   "metadata": {
    "collapsed": true
   },
   "outputs": [],
   "source": [
    "def main():\n",
    "    centers = [(2.6, 5.1), (1.5, 4.7)]\n",
    "    X, Y, labels = generate_synthetic_dataset(centers)\n",
    "    plot_clustering(X, Y, labels)\n",
    "   \n",
    "    if False:\n",
    "        kmeans_distributed(X, Y, k=2, epochs=2)\n",
    "        df = get_spark_clustering()   "
   ]
  },
  {
   "cell_type": "code",
   "execution_count": 65,
   "metadata": {},
   "outputs": [
    {
     "data": {
      "image/png": "[encoded data removed]",
      "text/plain": [
       "<Figure size 432x288 with 1 Axes>"
      ]
     },
     "metadata": {},
     "output_type": "display_data"
    }
   ],
   "source": [
    "main()"
   ]
  }
 ],
 "metadata": {
  "kernelspec": {
   "display_name": "Python 3",
   "language": "python",
   "name": "python3"
  },
  "language_info": {
   "codemirror_mode": {
    "name": "ipython",
    "version": 3
   },
   "file_extension": ".py",
   "mimetype": "text/x-python",
   "name": "python",
   "nbconvert_exporter": "python",
   "pygments_lexer": "ipython3",
   "version": "3.6.1"
  }
 },
 "nbformat": 4,
 "nbformat_minor": 2
}
