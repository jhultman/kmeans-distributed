{
 "cells": [
  {
   "cell_type": "code",
   "execution_count": null,
   "metadata": {},
   "outputs": [],
   "source": [
    "data = [dict(x=1.0, y=1.0, cluster_id=1, distance=4.0),\n",
    "        dict(x=1.0, y=1.0, cluster_id=2, distance=6.3),\n",
    "        dict(x=2.0, y=1.0, cluster_id=1, distance=3.0),\n",
    "        dict(x=2.0, y=1.0, cluster_id=2, distance=2.1),]\n",
    "\n",
    "field_x = StructField('x', FloatType(), True)\n",
    "field_y = StructField('y', FloatType(), True)\n",
    "field_id = StructField('cluster_id', IntegerType(), True)\n",
    "field_dist = StructField('distance', FloatType(), True)\n",
    "\n",
    "schema = StructType([field_x, field_y, field_id, field_dist])\n",
    "distances = spark.createDataFrame(data, schema)\n",
    "distances.createOrReplaceTempView('distances')\n",
    "\n",
    "query = '''\n",
    "    WITH closest AS (\n",
    "        SELECT\n",
    "            x, y,\n",
    "            MIN(distance) AS min_dist\n",
    "        FROM distances\n",
    "        GROUP BY x, y )\n",
    "\n",
    "    SELECT\n",
    "        sdf1.x AS x, \n",
    "        sdf1.y AS y, \n",
    "        sdf1.cluster_id AS cluster_id\n",
    "    FROM distances AS sdf1\n",
    "    INNER JOIN closest AS sdf2\n",
    "    ON sdf1.x = sdf2.x\n",
    "    AND sdf1.y = sdf2.y\n",
    "    AND sdf1.distance = sdf2.min_dist\n",
    "'''    \n",
    "\n",
    "points = spark.sql(query)\n",
    "points.show()"
   ]
  }
 ],
 "metadata": {
  "kernelspec": {
   "display_name": "Python 3",
   "language": "python",
   "name": "python3"
  },
  "language_info": {
   "codemirror_mode": {
    "name": "ipython",
    "version": 3
   },
   "file_extension": ".py",
   "mimetype": "text/x-python",
   "name": "python",
   "nbconvert_exporter": "python",
   "pygments_lexer": "ipython3",
   "version": "3.6.5"
  }
 },
 "nbformat": 4,
 "nbformat_minor": 2
}
